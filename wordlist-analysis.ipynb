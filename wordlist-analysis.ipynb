{
 "cells": [
  {
   "cell_type": "markdown",
   "id": "71179b80-9b8e-4ea3-80cb-426432f70681",
   "metadata": {},
   "source": [
    "# Environtment Init"
   ]
  },
  {
   "cell_type": "markdown",
   "id": "402d15d7-9815-47e3-8eff-ab7cccd85983",
   "metadata": {},
   "source": [
    "# Reading wordlist "
   ]
  },
  {
   "cell_type": "code",
   "execution_count": 1,
   "id": "05e9042d-d35b-42e4-9508-2d92e5c59dcb",
   "metadata": {},
   "outputs": [
    {
     "name": "stdout",
     "output_type": "stream",
     "text": [
      "Finished loading wordlist\n"
     ]
    }
   ],
   "source": [
    "wordlist_path = 'Hardware-Accelerated-SHA-Cracker/rockyou.txt'\n",
    "with open(wordlist_path, encoding='ansi') as file:\n",
    "    password_list = [line.rstrip() for line in file]\n",
    "print('Finished loading wordlist')"
   ]
  },
  {
   "cell_type": "markdown",
   "id": "17ae68b5-fac7-4b05-81fb-d22c54aa5761",
   "metadata": {},
   "source": [
    "# Analyze dataset"
   ]
  },
  {
   "cell_type": "code",
   "execution_count": 3,
   "id": "2e1b924c-bb24-440d-a71d-acd18cb227ad",
   "metadata": {},
   "outputs": [
    {
     "name": "stdout",
     "output_type": "stream",
     "text": [
      "285\n",
      "Wordlist size: 14344392 passwords\n"
     ]
    }
   ],
   "source": [
    "max_password_length = len(max(password_list,key=len))\n",
    "print(max_password_length)\n",
    "\n",
    "print(f'Wordlist size: {len(password_list)} passwords')\n"
   ]
  },
  {
   "cell_type": "code",
   "execution_count": null,
   "id": "9ef0c70c-35e9-4e03-956f-d046908fa970",
   "metadata": {},
   "outputs": [],
   "source": []
  }
 ],
 "metadata": {
  "kernelspec": {
   "display_name": "Python 3 (ipykernel)",
   "language": "python",
   "name": "python3"
  },
  "language_info": {
   "codemirror_mode": {
    "name": "ipython",
    "version": 3
   },
   "file_extension": ".py",
   "mimetype": "text/x-python",
   "name": "python",
   "nbconvert_exporter": "python",
   "pygments_lexer": "ipython3",
   "version": "3.9.12"
  }
 },
 "nbformat": 4,
 "nbformat_minor": 5
}
