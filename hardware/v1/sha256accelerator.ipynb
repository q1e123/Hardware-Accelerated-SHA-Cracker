{
 "cells": [
  {
   "cell_type": "code",
   "execution_count": 1,
   "id": "b8c462f2",
   "metadata": {},
   "outputs": [
    {
     "data": {
      "application/javascript": [
       "\n",
       "try {\n",
       "require(['notebook/js/codecell'], function(codecell) {\n",
       "  codecell.CodeCell.options_default.highlight_modes[\n",
       "      'magic_text/x-csrc'] = {'reg':[/^%%microblaze/]};\n",
       "  Jupyter.notebook.events.one('kernel_ready.Kernel', function(){\n",
       "      Jupyter.notebook.get_cells().map(function(cell){\n",
       "          if (cell.cell_type == 'code'){ cell.auto_highlight(); } }) ;\n",
       "  });\n",
       "});\n",
       "} catch (e) {};\n"
      ]
     },
     "metadata": {},
     "output_type": "display_data"
    },
    {
     "data": {
      "application/javascript": [
       "\n",
       "try {\n",
       "require(['notebook/js/codecell'], function(codecell) {\n",
       "  codecell.CodeCell.options_default.highlight_modes[\n",
       "      'magic_text/x-csrc'] = {'reg':[/^%%pybind11/]};\n",
       "  Jupyter.notebook.events.one('kernel_ready.Kernel', function(){\n",
       "      Jupyter.notebook.get_cells().map(function(cell){\n",
       "          if (cell.cell_type == 'code'){ cell.auto_highlight(); } }) ;\n",
       "  });\n",
       "});\n",
       "} catch (e) {};\n"
      ]
     },
     "metadata": {},
     "output_type": "display_data"
    }
   ],
   "source": [
    "from pynq import Overlay\n",
    "from pynq import allocate"
   ]
  },
  {
   "cell_type": "code",
   "execution_count": 2,
   "id": "a853228f",
   "metadata": {},
   "outputs": [],
   "source": [
    "overlay = Overlay('/home/xilinx/jupyter_notebooks/sha256/sha256accelerator.bit')\n",
    "ip = overlay.hash_0\n",
    "mmio = ip.mmio\n",
    "register_map = ip.register_map\n",
    "registers = register_map._register_classes"
   ]
  },
  {
   "cell_type": "code",
   "execution_count": 3,
   "id": "10d0e53d",
   "metadata": {},
   "outputs": [
    {
     "name": "stdout",
     "output_type": "stream",
     "text": [
      "CTRL (<class 'pynq.registers.RegisterCTRL'>, 0, 32, None, None, 'read-write')\n",
      "GIER (<class 'pynq.registers.RegisterGIER'>, 4, 32, None, None, 'read-write')\n",
      "IP_IER (<class 'pynq.registers.RegisterIP_IER'>, 8, 32, None, None, 'read-write')\n",
      "IP_ISR (<class 'pynq.registers.RegisterIP_ISR'>, 12, 32, None, None, 'read-write')\n",
      "ap_return (<class 'pynq.registers.Registerap_return'>, 16, 32, None, None, 'read-only')\n",
      "text_length (<class 'pynq.registers.Registertext_length'>, 24, 32, None, None, 'write-only')\n",
      "text_input_1 (<class 'pynq.registers.Registertext_input_1'>, 32, 32, None, None, 'write-only')\n",
      "text_input_2 (<class 'pynq.registers.Registertext_input_2'>, 36, 32, None, None, 'write-only')\n",
      "Memory_result (<class 'pynq.registers.RegisterMemory_result'>, 64, 32, None, None, 'read-write')\n"
     ]
    }
   ],
   "source": [
    "# print all registers\n",
    "for name, reg in registers.items():\n",
    "    print(name, reg)"
   ]
  },
  {
   "cell_type": "code",
   "execution_count": 4,
   "id": "ff3f2798",
   "metadata": {},
   "outputs": [],
   "source": [
    "# Register location (axilite)\n",
    "result_addr = register_map.Memory_result.address // 4\n",
    "result_size = register_map.Memory_result.width // 4\n",
    "result_val = mmio.array[result_addr:result_addr+result_size]\n",
    "\n",
    "# Allocated buffer (m_axi)\n",
    "input_buffer_size = 1024\n",
    "input_buffer = allocate(shape=(input_buffer_size,), dtype='u1', cacheable=False) # unsigned 32-bit integers\n",
    "register_map.text_input_1.text_input = input_buffer.device_address"
   ]
  },
  {
   "cell_type": "code",
   "execution_count": 5,
   "id": "f37e486c",
   "metadata": {},
   "outputs": [],
   "source": [
    "import hashlib\n",
    "import array\n",
    "import math\n",
    "import numpy as np\n",
    "\n",
    "# Hardware accelerated function\n",
    "def SHA256_hardware(bstr):\n",
    "    # Set text length\n",
    "    register_map.text_length = len(bstr)\n",
    "    \n",
    "    # Write to input buffer\n",
    "    input_buffer[0:len(bstr)] = bytearray(bstr)\n",
    "    input_buffer.flush()\n",
    "    \n",
    "    # Send start signal\n",
    "    register_map.CTRL.AP_START = 1\n",
    "    \n",
    "    # Wait until algorithm has completed\n",
    "    while (register_map.CTRL.AP_DONE == 0):\n",
    "        pass\n",
    "    \n",
    "    # Retrieve result as a hex string\n",
    "    result = bytearray(result_val)\n",
    "    return result.hex()\n",
    "\n",
    "# Software library function\n",
    "def SHA256_software(bstr):\n",
    "    return hashlib.sha256(bstr).hexdigest()"
   ]
  },
  {
   "cell_type": "code",
   "execution_count": 6,
   "id": "51192d32",
   "metadata": {},
   "outputs": [
    {
     "name": "stdout",
     "output_type": "stream",
     "text": [
      "e3b0c44298fc1c149afbf4c8996fb92427ae41e4649b934ca495991b7852b855\n",
      "e3b0c44298fc1c149afbf4c8996fb92427ae41e4649b934ca495991b7852b855\n",
      "ba7816bf8f01cfea414140de5dae2223b00361a396177a9cb410ff61f20015ad\n",
      "ba7816bf8f01cfea414140de5dae2223b00361a396177a9cb410ff61f20015ad\n",
      "88d4266fd4e6338d13b845fcf289579d209c897823b9217da3e161936f031589\n",
      "88d4266fd4e6338d13b845fcf289579d209c897823b9217da3e161936f031589\n"
     ]
    },
    {
     "ename": "AssertionError",
     "evalue": "('9c1937d426', 5, 'eefdf6e3ba0d07cebef1b5816e17144734ad2edbe18a5cea781fbb817885fa27', 'a4f230b2a80e185068a6f4e5ce60b5b0efb9ebea619357077c28f441551220de')",
     "output_type": "error",
     "traceback": [
      "\u001b[0;31m---------------------------------------------------------------------------\u001b[0m",
      "\u001b[0;31mAssertionError\u001b[0m                            Traceback (most recent call last)",
      "\u001b[0;32m<ipython-input-6-7a430b775ba3>\u001b[0m in \u001b[0;36m<module>\u001b[0;34m\u001b[0m\n\u001b[1;32m     15\u001b[0m     \u001b[0mhw\u001b[0m \u001b[0;34m=\u001b[0m \u001b[0mSHA256_hardware\u001b[0m\u001b[0;34m(\u001b[0m\u001b[0mrandom_bytes\u001b[0m\u001b[0;34m)\u001b[0m\u001b[0;34m\u001b[0m\u001b[0;34m\u001b[0m\u001b[0m\n\u001b[1;32m     16\u001b[0m     \u001b[0msw\u001b[0m \u001b[0;34m=\u001b[0m \u001b[0mSHA256_software\u001b[0m\u001b[0;34m(\u001b[0m\u001b[0mrandom_bytes\u001b[0m\u001b[0;34m)\u001b[0m\u001b[0;34m\u001b[0m\u001b[0;34m\u001b[0m\u001b[0m\n\u001b[0;32m---> 17\u001b[0;31m     \u001b[0;32massert\u001b[0m \u001b[0;34m(\u001b[0m\u001b[0mhw\u001b[0m \u001b[0;34m==\u001b[0m \u001b[0msw\u001b[0m\u001b[0;34m)\u001b[0m\u001b[0;34m,\u001b[0m \u001b[0;34m(\u001b[0m\u001b[0mrandom_bytes\u001b[0m\u001b[0;34m.\u001b[0m\u001b[0mhex\u001b[0m\u001b[0;34m(\u001b[0m\u001b[0;34m)\u001b[0m\u001b[0;34m,\u001b[0m \u001b[0mi\u001b[0m\u001b[0;34m,\u001b[0m \u001b[0mhw\u001b[0m\u001b[0;34m,\u001b[0m \u001b[0msw\u001b[0m\u001b[0;34m)\u001b[0m\u001b[0;34m\u001b[0m\u001b[0;34m\u001b[0m\u001b[0m\n\u001b[0m\u001b[1;32m     18\u001b[0m \u001b[0;34m\u001b[0m\u001b[0m\n\u001b[1;32m     19\u001b[0m \u001b[0mprint\u001b[0m\u001b[0;34m(\u001b[0m\u001b[0;34m\"All tests passed\"\u001b[0m\u001b[0;34m)\u001b[0m\u001b[0;34m\u001b[0m\u001b[0;34m\u001b[0m\u001b[0m\n",
      "\u001b[0;31mAssertionError\u001b[0m: ('9c1937d426', 5, 'eefdf6e3ba0d07cebef1b5816e17144734ad2edbe18a5cea781fbb817885fa27', 'a4f230b2a80e185068a6f4e5ce60b5b0efb9ebea619357077c28f441551220de')"
     ]
    }
   ],
   "source": [
    "# test\n",
    "import secrets\n",
    "\n",
    "# Known test vectors\n",
    "print(SHA256_hardware(b''))\n",
    "print(SHA256_software(b''))\n",
    "print(SHA256_hardware(b'abc'))\n",
    "print(SHA256_software(b'abc'))\n",
    "print(SHA256_hardware(b'abcd'))\n",
    "print(SHA256_software(b'abcd'))\n",
    "\n",
    "# Test random lengths of bytes\n",
    "for i in range(0, 512+1):\n",
    "    random_bytes = secrets.token_bytes(i)\n",
    "    hw = SHA256_hardware(random_bytes)\n",
    "    sw = SHA256_software(random_bytes)\n",
    "    assert (hw == sw), (random_bytes.hex(), i, hw, sw)\n",
    "\n",
    "print(\"All tests passed\")"
   ]
  },
  {
   "cell_type": "code",
   "execution_count": 7,
   "id": "74958bc2",
   "metadata": {
    "scrolled": true
   },
   "outputs": [
    {
     "name": "stdout",
     "output_type": "stream",
     "text": [
      "24.1 µs ± 663 ns per loop (mean ± std. dev. of 5 runs, 1000 loops each)\n",
      "499 µs ± 6.55 µs per loop (mean ± std. dev. of 5 runs, 1000 loops each)\n"
     ]
    }
   ],
   "source": [
    "sw_time = %timeit -n 1000 -r 5 -o SHA256_software(secrets.token_bytes(16))\n",
    "hw_time = %timeit -n 1000 -r 5 -o SHA256_hardware(secrets.token_bytes(16))"
   ]
  },
  {
   "cell_type": "code",
   "execution_count": 8,
   "id": "30baae97",
   "metadata": {},
   "outputs": [
    {
     "name": "stdout",
     "output_type": "stream",
     "text": [
      "Performance gain: 0.0482475659192971\n"
     ]
    }
   ],
   "source": [
    "print('Performance gain:', sw_time.average / hw_time.average) "
   ]
  },
  {
   "cell_type": "code",
   "execution_count": null,
   "id": "b1b9215b",
   "metadata": {},
   "outputs": [],
   "source": []
  }
 ],
 "metadata": {
  "kernelspec": {
   "display_name": "Python 3",
   "language": "python",
   "name": "python3"
  },
  "language_info": {
   "codemirror_mode": {
    "name": "ipython",
    "version": 3
   },
   "file_extension": ".py",
   "mimetype": "text/x-python",
   "name": "python",
   "nbconvert_exporter": "python",
   "pygments_lexer": "ipython3",
   "version": "3.8.2"
  }
 },
 "nbformat": 4,
 "nbformat_minor": 5
}
